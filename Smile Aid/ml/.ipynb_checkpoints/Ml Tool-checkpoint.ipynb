{
 "cells": [
  {
   "cell_type": "code",
   "execution_count": 1,
   "id": "23660414",
   "metadata": {},
   "outputs": [],
   "source": [
    "from sklearn.cluster import KMeans\n",
    "import pandas as pd\n",
    "from matplotlib import pyplot as plt\n",
    "%matplotlib inline\n"
   ]
  },
  {
   "cell_type": "code",
   "execution_count": 2,
   "id": "e5a83e19",
   "metadata": {},
   "outputs": [
    {
     "data": {
      "text/html": [
       "<div>\n",
       "<style scoped>\n",
       "    .dataframe tbody tr th:only-of-type {\n",
       "        vertical-align: middle;\n",
       "    }\n",
       "\n",
       "    .dataframe tbody tr th {\n",
       "        vertical-align: top;\n",
       "    }\n",
       "\n",
       "    .dataframe thead th {\n",
       "        text-align: right;\n",
       "    }\n",
       "</style>\n",
       "<table border=\"1\" class=\"dataframe\">\n",
       "  <thead>\n",
       "    <tr style=\"text-align: right;\">\n",
       "      <th></th>\n",
       "      <th>student_id</th>\n",
       "      <th>x</th>\n",
       "      <th>y</th>\n",
       "    </tr>\n",
       "  </thead>\n",
       "  <tbody>\n",
       "    <tr>\n",
       "      <th>0</th>\n",
       "      <td>1</td>\n",
       "      <td>2</td>\n",
       "      <td>2</td>\n",
       "    </tr>\n",
       "    <tr>\n",
       "      <th>1</th>\n",
       "      <td>2</td>\n",
       "      <td>4</td>\n",
       "      <td>3</td>\n",
       "    </tr>\n",
       "    <tr>\n",
       "      <th>2</th>\n",
       "      <td>5</td>\n",
       "      <td>2</td>\n",
       "      <td>4</td>\n",
       "    </tr>\n",
       "    <tr>\n",
       "      <th>3</th>\n",
       "      <td>4</td>\n",
       "      <td>1</td>\n",
       "      <td>2</td>\n",
       "    </tr>\n",
       "    <tr>\n",
       "      <th>4</th>\n",
       "      <td>14</td>\n",
       "      <td>4</td>\n",
       "      <td>1</td>\n",
       "    </tr>\n",
       "    <tr>\n",
       "      <th>...</th>\n",
       "      <td>...</td>\n",
       "      <td>...</td>\n",
       "      <td>...</td>\n",
       "    </tr>\n",
       "    <tr>\n",
       "      <th>96</th>\n",
       "      <td>96</td>\n",
       "      <td>1</td>\n",
       "      <td>2</td>\n",
       "    </tr>\n",
       "    <tr>\n",
       "      <th>97</th>\n",
       "      <td>97</td>\n",
       "      <td>2</td>\n",
       "      <td>2</td>\n",
       "    </tr>\n",
       "    <tr>\n",
       "      <th>98</th>\n",
       "      <td>98</td>\n",
       "      <td>4</td>\n",
       "      <td>2</td>\n",
       "    </tr>\n",
       "    <tr>\n",
       "      <th>99</th>\n",
       "      <td>99</td>\n",
       "      <td>3</td>\n",
       "      <td>4</td>\n",
       "    </tr>\n",
       "    <tr>\n",
       "      <th>100</th>\n",
       "      <td>100</td>\n",
       "      <td>2</td>\n",
       "      <td>1</td>\n",
       "    </tr>\n",
       "  </tbody>\n",
       "</table>\n",
       "<p>101 rows × 3 columns</p>\n",
       "</div>"
      ],
      "text/plain": [
       "     student_id  x  y\n",
       "0             1  2  2\n",
       "1             2  4  3\n",
       "2             5  2  4\n",
       "3             4  1  2\n",
       "4            14  4  1\n",
       "..          ... .. ..\n",
       "96           96  1  2\n",
       "97           97  2  2\n",
       "98           98  4  2\n",
       "99           99  3  4\n",
       "100         100  2  1\n",
       "\n",
       "[101 rows x 3 columns]"
      ]
     },
     "execution_count": 2,
     "metadata": {},
     "output_type": "execute_result"
    }
   ],
   "source": [
    "df = pd.read_csv(\"classify.csv\")\n",
    "df\n"
   ]
  },
  {
   "cell_type": "code",
   "execution_count": 3,
   "id": "3925ce58",
   "metadata": {},
   "outputs": [
    {
     "data": {
      "text/plain": [
       "Text(0, 0.5, 'user_answer_2')"
      ]
     },
     "execution_count": 3,
     "metadata": {},
     "output_type": "execute_result"
    },
    {
     "data": {
      "image/png": "[encoded data removed]",
      "text/plain": [
       "<Figure size 432x288 with 1 Axes>"
      ]
     },
     "metadata": {
      "needs_background": "light"
     },
     "output_type": "display_data"
    }
   ],
   "source": [
    "plt.scatter(df.x,df.y)\n",
    "plt.xlabel('user_answer_1')\n",
    "plt.ylabel('user_answer_2')\n"
   ]
  },
  {
   "cell_type": "code",
   "execution_count": 4,
   "id": "1880f55e",
   "metadata": {},
   "outputs": [
    {
     "data": {
      "text/plain": [
       "array([ 5,  7,  0,  2, 13,  1,  7,  3,  9, 12,  6, 11,  8, 15, 14,  5,  4,\n",
       "       10,  2,  6,  1,  0, 12, 13,  8, 11,  4, 10,  3,  9, 14, 13, 15,  6,\n",
       "        5,  9,  4,  7,  6,  3,  4,  9,  3, 15,  7,  6,  0, 14,  8, 13,  1,\n",
       "        3,  1,  5, 11,  4,  6,  8,  0, 10,  9,  8,  1,  5, 12,  1,  9,  6,\n",
       "       10,  4, 11,  9,  5,  3, 12, 15, 13,  6,  1,  4, 12, 13, 14,  8, 10,\n",
       "        8,  6,  1,  0, 11,  0,  2, 10,  9, 12,  1,  2,  5, 10, 14,  8])"
      ]
     },
     "execution_count": 4,
     "metadata": {},
     "output_type": "execute_result"
    }
   ],
   "source": [
    "km = KMeans(n_clusters=16)\n",
    "y_predicted = km.fit_predict(df[['x','y']])\n",
    "y_predicted\n"
   ]
  },
  {
   "cell_type": "code",
   "execution_count": 5,
   "id": "c216a148",
   "metadata": {},
   "outputs": [
    {
     "data": {
      "text/html": [
       "<div>\n",
       "<style scoped>\n",
       "    .dataframe tbody tr th:only-of-type {\n",
       "        vertical-align: middle;\n",
       "    }\n",
       "\n",
       "    .dataframe tbody tr th {\n",
       "        vertical-align: top;\n",
       "    }\n",
       "\n",
       "    .dataframe thead th {\n",
       "        text-align: right;\n",
       "    }\n",
       "</style>\n",
       "<table border=\"1\" class=\"dataframe\">\n",
       "  <thead>\n",
       "    <tr style=\"text-align: right;\">\n",
       "      <th></th>\n",
       "      <th>student_id</th>\n",
       "      <th>x</th>\n",
       "      <th>y</th>\n",
       "      <th>group</th>\n",
       "    </tr>\n",
       "  </thead>\n",
       "  <tbody>\n",
       "    <tr>\n",
       "      <th>0</th>\n",
       "      <td>1</td>\n",
       "      <td>2</td>\n",
       "      <td>2</td>\n",
       "      <td>5</td>\n",
       "    </tr>\n",
       "    <tr>\n",
       "      <th>1</th>\n",
       "      <td>2</td>\n",
       "      <td>4</td>\n",
       "      <td>3</td>\n",
       "      <td>7</td>\n",
       "    </tr>\n",
       "    <tr>\n",
       "      <th>2</th>\n",
       "      <td>5</td>\n",
       "      <td>2</td>\n",
       "      <td>4</td>\n",
       "      <td>0</td>\n",
       "    </tr>\n",
       "    <tr>\n",
       "      <th>3</th>\n",
       "      <td>4</td>\n",
       "      <td>1</td>\n",
       "      <td>2</td>\n",
       "      <td>2</td>\n",
       "    </tr>\n",
       "    <tr>\n",
       "      <th>4</th>\n",
       "      <td>14</td>\n",
       "      <td>4</td>\n",
       "      <td>1</td>\n",
       "      <td>13</td>\n",
       "    </tr>\n",
       "    <tr>\n",
       "      <th>...</th>\n",
       "      <td>...</td>\n",
       "      <td>...</td>\n",
       "      <td>...</td>\n",
       "      <td>...</td>\n",
       "    </tr>\n",
       "    <tr>\n",
       "      <th>96</th>\n",
       "      <td>96</td>\n",
       "      <td>1</td>\n",
       "      <td>2</td>\n",
       "      <td>2</td>\n",
       "    </tr>\n",
       "    <tr>\n",
       "      <th>97</th>\n",
       "      <td>97</td>\n",
       "      <td>2</td>\n",
       "      <td>2</td>\n",
       "      <td>5</td>\n",
       "    </tr>\n",
       "    <tr>\n",
       "      <th>98</th>\n",
       "      <td>98</td>\n",
       "      <td>4</td>\n",
       "      <td>2</td>\n",
       "      <td>10</td>\n",
       "    </tr>\n",
       "    <tr>\n",
       "      <th>99</th>\n",
       "      <td>99</td>\n",
       "      <td>3</td>\n",
       "      <td>4</td>\n",
       "      <td>14</td>\n",
       "    </tr>\n",
       "    <tr>\n",
       "      <th>100</th>\n",
       "      <td>100</td>\n",
       "      <td>2</td>\n",
       "      <td>1</td>\n",
       "      <td>8</td>\n",
       "    </tr>\n",
       "  </tbody>\n",
       "</table>\n",
       "<p>101 rows × 4 columns</p>\n",
       "</div>"
      ],
      "text/plain": [
       "     student_id  x  y  group\n",
       "0             1  2  2      5\n",
       "1             2  4  3      7\n",
       "2             5  2  4      0\n",
       "3             4  1  2      2\n",
       "4            14  4  1     13\n",
       "..          ... .. ..    ...\n",
       "96           96  1  2      2\n",
       "97           97  2  2      5\n",
       "98           98  4  2     10\n",
       "99           99  3  4     14\n",
       "100         100  2  1      8\n",
       "\n",
       "[101 rows x 4 columns]"
      ]
     },
     "execution_count": 5,
     "metadata": {},
     "output_type": "execute_result"
    }
   ],
   "source": [
    "df['group']=y_predicted\n",
    "df\n"
   ]
  },
  {
   "cell_type": "code",
   "execution_count": 6,
   "id": "0a7a6b96",
   "metadata": {},
   "outputs": [],
   "source": [
    "df.to_csv('classification.csv')\n"
   ]
  },
  {
   "cell_type": "code",
   "execution_count": 7,
   "id": "fdb14afd",
   "metadata": {},
   "outputs": [
    {
     "data": {
      "text/plain": [
       "'student_id,x,y,group\\r\\n1,2,2,5\\r\\n2,4,3,7\\r\\n5,2,4,0\\r\\n4,1,2,2\\r\\n14,4,1,13\\r\\n15,3,1,1\\r\\n22,4,3,7\\r\\n7,4,4,3\\r\\n11,3,3,9\\r\\n8,1,4,12\\r\\n12,1,1,6\\r\\n16,1,3,11\\r\\n26,2,1,8\\r\\n23,3,2,15\\r\\n28,3,4,14\\r\\n30,2,2,5\\r\\n3,2,3,4\\r\\n6,4,2,10\\r\\n9,1,2,2\\r\\n10,1,1,6\\r\\n13,3,1,1\\r\\n17,2,4,0\\r\\n18,1,4,12\\r\\n19,4,1,13\\r\\n20,2,1,8\\r\\n21,1,3,11\\r\\n24,2,3,4\\r\\n25,4,2,10\\r\\n27,4,4,3\\r\\n29,3,3,9\\r\\n31,3,4,14\\r\\n32,4,1,13\\r\\n33,3,2,15\\r\\n34,1,1,6\\r\\n35,2,2,5\\r\\n36,3,3,9\\r\\n37,2,3,4\\r\\n38,4,3,7\\r\\n39,1,1,6\\r\\n40,4,4,3\\r\\n41,2,3,4\\r\\n42,3,3,9\\r\\n43,4,4,3\\r\\n44,3,2,15\\r\\n45,4,3,7\\r\\n46,1,1,6\\r\\n47,2,4,0\\r\\n48,3,4,14\\r\\n49,2,1,8\\r\\n50,4,1,13\\r\\n51,3,1,1\\r\\n52,4,4,3\\r\\n53,3,1,1\\r\\n54,2,2,5\\r\\n55,1,3,11\\r\\n56,2,3,4\\r\\n61,1,1,6\\r\\n57,2,1,8\\r\\n58,2,4,0\\r\\n59,4,2,10\\r\\n60,3,3,9\\r\\n62,2,1,8\\r\\n63,3,1,1\\r\\n64,2,2,5\\r\\n65,1,4,12\\r\\n66,3,1,1\\r\\n67,3,3,9\\r\\n68,1,1,6\\r\\n69,4,2,10\\r\\n70,2,3,4\\r\\n71,1,3,11\\r\\n72,3,3,9\\r\\n73,2,2,5\\r\\n74,4,4,3\\r\\n75,1,4,12\\r\\n76,3,2,15\\r\\n77,4,1,13\\r\\n78,1,1,6\\r\\n79,3,1,1\\r\\n80,2,3,4\\r\\n81,1,4,12\\r\\n82,4,1,13\\r\\n83,3,4,14\\r\\n84,2,1,8\\r\\n85,4,2,10\\r\\n86,2,1,8\\r\\n87,1,1,6\\r\\n88,3,1,1\\r\\n89,2,4,0\\r\\n90,1,3,11\\r\\n91,2,4,0\\r\\n92,1,2,2\\r\\n93,4,2,10\\r\\n94,3,3,9\\r\\n101,1,4,12\\r\\n95,3,1,1\\r\\n96,1,2,2\\r\\n97,2,2,5\\r\\n98,4,2,10\\r\\n99,3,4,14\\r\\n100,2,1,8\\r\\n'"
      ]
     },
     "execution_count": 7,
     "metadata": {},
     "output_type": "execute_result"
    }
   ],
   "source": [
    "df.to_csv(index = False)\n"
   ]
  },
  {
   "cell_type": "code",
   "execution_count": null,
   "id": "643177b3",
   "metadata": {},
   "outputs": [],
   "source": []
  }
 ],
 "metadata": {
  "kernelspec": {
   "display_name": "Python 3",
   "language": "python",
   "name": "python3"
  },
  "language_info": {
   "codemirror_mode": {
    "name": "ipython",
    "version": 3
   },
   "file_extension": ".py",
   "mimetype": "text/x-python",
   "name": "python",
   "nbconvert_exporter": "python",
   "pygments_lexer": "ipython3",
   "version": "3.9.4"
  }
 },
 "nbformat": 4,
 "nbformat_minor": 5
}
